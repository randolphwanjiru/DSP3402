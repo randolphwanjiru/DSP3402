{
 "cells": [
  {
   "cell_type": "markdown",
   "metadata": {},
   "source": [
    "## Lab 3\n",
    "\n",
    "In this lab we will become familiar with distributions, histograms, and functional programming. Before that, lets submit your Quiz from last lecture. Do not use numpy or any other library for this lab. \n",
    "\n",
    "### Quiz Submission\n",
    "\n",
    "The instructions here aim to have our course repository be public (enabling things like the colab links), while student repositories are private. You should be familiar with git from the first semester of this course. I assume that you all have github accounts and have setup things to be able to [push to github using ssh](https://docs.github.com/en/github/authenticating-to-github/connecting-to-github-with-ssh). The instuctions here lead you to:\n",
    "\n",
    "1. Create a directory on your personal system where you will keep all course materials.\n",
    "1. Clone the [course repository](https://github.com/UTA-DataScience/DATA3402.Fall.2023).\n",
    "1. Create a new private repository for your solutions. \n",
    "1. Copy lab notebooks from course repository to your solutions repository.\n",
    "1. Commit / push your solutions.\n",
    "1. Grant access to course instructors.\n",
    "\n",
    "Ideally, you should be able to do all of these steps yourself. Below are step by step instructions with examples (including example directory naming convention). Feel free to modify things as you see fit. The goal here to have a private repo where you can submit your solutions. \n",
    "\n",
    "1. Open a shell on your personal computer.\n",
    "1. If you have not done so already, create a new directory/folder where you will keep all course material to navigate to it. For example: `mkdir Data-3402` and `cd Data-3402`.\n",
    "1. Clone the course repository: `git clone https://github.com/UTA-DataScience/DATA3402.Fall.2023`.\n",
    "   1. Note that after the this clone, you simply need to navigate to this directory and do `git pull` to get updates (e.g. new labs).\n",
    "1. Make a new directory for your solutions and navigate to it: `mkdir DATA3402.Solutions.$USER` and `cd  DATA3402.Solutions.$USER`\n",
    "1. Make new directory for Labs and Lab 2: `mkdir Labs ; mkdir Labs/Labs.2`.\n",
    "1. Place your Quiz 1 solutions it this directory: `cp <path_to_solution> Labs/Labs.2 `\n",
    "   1. For Lab 2 and the future labs, just copy labs from the class repo, for example here: \n",
    "      * `mkdir Labs/Lab.3`\n",
    "      * `cp ../DATA3402.Fall.2023/Labs/Lab.3/Lab.3.ipynb Labs/Lab.3`\n",
    "1. Create a new git repository with same name are your directory above (i.e. `DATA3402.Solutions.$USER`). \n",
    "   * Navigate to your page on github.\n",
    "   * Use the \"+\" button to create a new repository.\n",
    "   * Make sure your repository is private.\n",
    "   * github will give you instructions on \"create a new repository on the command line\"\n",
    "1. After creating the repository, go to the repository settings tab, select \"Manage access\" on left, and press \"Invite a collaborator\" to invite course instructor (username `afarbin`). You'll do the same for our TA, once we have one for this course.\n",
    "1. To submit your labs, navigate to your private repo and \n",
    "   1. Make sure you have added the lab. For example: `git add Labs/Lab.2/Lab.2.ipynb`\n",
    "   1. Commit any changes: `git commit -a -m \"Lab 2 updates\"`\n",
    "   1. Push your changes: `git push`\n",
    "   1. Check on github that your solutions have been properly submitted.\n",
    "   \n",
    "   \n",
    "After submitting Quiz 1, continue work on lab 2, or start the remainder of this lab..."
   ]
  },
  {
   "cell_type": "markdown",
   "metadata": {},
   "source": [
    "### Uniform Distribution\n",
    "Lets start with generating some fake random data. You can get a random number between 0 and 1 using the python random module as follow:"
   ]
  },
  {
   "cell_type": "code",
   "execution_count": 6,
   "metadata": {},
   "outputs": [
    {
     "name": "stdout",
     "output_type": "stream",
     "text": [
      "The Value of x is 0.5571048109350903\n"
     ]
    }
   ],
   "source": [
    "import random\n",
    "x=random.random()\n",
    "print(\"The Value of x is\", x)"
   ]
  },
  {
   "cell_type": "markdown",
   "metadata": {},
   "source": [
    "Everytime you call random, you will get a new number.\n",
    "\n",
    "*Exercise 1:* Using random, write a function `generate_uniform(N, mymin, mymax)`, that returns a python list containing N random numbers between specified minimum and maximum value. Note that you may want to quickly work out on paper how to turn numbers between 0 and 1 to between other values. "
   ]
  },
  {
   "cell_type": "code",
   "execution_count": 21,
   "metadata": {},
   "outputs": [],
   "source": [
    "# Skeleton\n",
    "def generate_uniform(N,x_min,x_max):\n",
    "    out = []\n",
    "    ### BEGIN SOLUTION\n",
    "import random\n",
    "\n",
    "def generate_uniform(N, x_min, x_max):\n",
    "    return [random.uniform(x_min, x_max) for _ in range(N)]\n",
    "    ### END SOLUTION\n",
    "    return out"
   ]
  },
  {
   "cell_type": "code",
   "execution_count": 19,
   "metadata": {},
   "outputs": [
    {
     "name": "stdout",
     "output_type": "stream",
     "text": [
      "Data Type: <class 'list'>\n",
      "Data Length: 1000\n",
      "Type of Data Contents: <class 'float'>\n",
      "Data Minimum: -9.982606138463307\n",
      "Data Maximum: 9.997442059492368\n"
     ]
    }
   ],
   "source": [
    "# Test your solution here\n",
    "data=generate_uniform(1000,-10,10)\n",
    "print (\"Data Type:\", type(data))\n",
    "print (\"Data Length:\", len(data))\n",
    "if len(data)>0: \n",
    "    print (\"Type of Data Contents:\", type(data[0]))\n",
    "    print (\"Data Minimum:\", min(data))\n",
    "    print (\"Data Maximum:\", max(data))"
   ]
  },
  {
   "cell_type": "markdown",
   "metadata": {},
   "source": [
    "*Exercise 2a:* \n",
    "Write a function that computes the mean of values in a list. Recall the equation for the mean of a random variable $\\bf{x}$ computed on a data set of $n$ values $\\{ x_i \\} = \\{x_1, x_2, ..., x_n\\}$  is ${\\bf\\bar{x}} = \\frac{1}{n} \\sum_i^n x_i$."
   ]
  },
  {
   "cell_type": "code",
   "execution_count": 22,
   "metadata": {},
   "outputs": [],
   "source": [
    "import random \n",
    "def mean(Data):\n",
    "    m = 0.\n",
    "\n",
    "    # Check if Data is not empty\n",
    "    if len(Data) > 0:\n",
    "        m = sum(Data) / len(Data)\n",
    "\n",
    "    return m\n",
    "random_data = [random.randint(1, 10) for _ in range(5)]\n"
   ]
  },
  {
   "cell_type": "code",
   "execution_count": 21,
   "metadata": {},
   "outputs": [
    {
     "name": "stdout",
     "output_type": "stream",
     "text": [
      "[5, 10, 3, 4, 7]\n",
      "Mean of Data: 5.8\n"
     ]
    }
   ],
   "source": [
    "# Test your solution here\n",
    "print(random_data)\n",
    "print (\"Mean of Data:\", mean(random_data))"
   ]
  },
  {
   "cell_type": "markdown",
   "metadata": {},
   "source": [
    "*Exercise 2b:* \n",
    "Write a function that computes the variance of values in a list. Recall the equation for the variance of a random variable $\\bf{x}$ computed on a data set of $n$ values $\\{ x_i \\} = \\{x_1, x_2, ..., x_n\\}$  is ${\\bf\\langle x \\rangle} = \\frac{1}{n} \\sum_i^n (x_i - {\\bf\\bar{x}})$."
   ]
  },
  {
   "cell_type": "code",
   "execution_count": 34,
   "metadata": {},
   "outputs": [],
   "source": [
    "import random\n",
    "\n",
    "def variance(Data):\n",
    "    n = len(Data)\n",
    "    \n",
    "    if n < 2:\n",
    "        raise ValueError(\"two numbers\")\n",
    "\n",
    "    total = sum(Data)\n",
    "    mean_value = total / n\n",
    "\n",
    "    sum_of_squares = 0\n",
    "    for x in Data:\n",
    "        difference = x - mean_value\n",
    "        sum_of_squares += difference ** 2\n",
    "\n",
    "    m = sum_of_squares / n\n",
    "\n",
    "    return m\n",
    "\n",
    "# Generate random test data\n",
    "random_data = [random.randint(1, 10) for _ in range(5)]\n",
    "\n",
    "# Calculate variance\n",
    "variance_value = variance(random_data)\n",
    "\n",
    "\n",
    "\n",
    "\n"
   ]
  },
  {
   "cell_type": "code",
   "execution_count": 35,
   "metadata": {},
   "outputs": [
    {
     "name": "stdout",
     "output_type": "stream",
     "text": [
      "Random Test Data: [4, 7, 9, 7, 7]\n",
      "Variance of Data: 2.56\n"
     ]
    }
   ],
   "source": [
    "print(\"Random Test Data:\", random_data)\n",
    "print(\"Variance of Data:\", variance_value)"
   ]
  },
  {
   "cell_type": "markdown",
   "metadata": {},
   "source": [
    "## Histogramming"
   ]
  },
  {
   "cell_type": "markdown",
   "metadata": {},
   "source": [
    "*Exercise 3:* Write a function that bins the data so that you can create a histogram. An example of how to implement histogramming is the following logic:\n",
    "\n",
    "* User inputs a list of values `x` and optionally `n_bins` which defaults to 10.\n",
    "* If not supplied, find the minimum and maximum (`x_min`,`x_max`) of the values in x.\n",
    "* Determine the bin size (`bin_size`) by dividing the range of the function by the number of bins.\n",
    "* Create an empty list of zeros of size `n_bins`, call it `hist`.\n",
    "* Loop over the values in `x`\n",
    "    * Loop over the values in `hist` with index `i`:\n",
    "        * If x is between `x_min+i*bin_size` and `x_min+(i+1)*bin_size`, increment `hist[i].` \n",
    "        * For efficiency, try to use continue to goto the next bin and data point.\n",
    "* Return `hist` and the list corresponding of the bin edges (i.e. of `x_min+i*bin_size`).    "
   ]
  },
  {
   "cell_type": "code",
   "execution_count": 40,
   "metadata": {},
   "outputs": [],
   "source": [
    "def histogram(x, n_bins=10, x_min=None, x_max=None):\n",
    "   \n",
    "    if x_min is None:\n",
    "        x_min = min(x)\n",
    "    \n",
    " \n",
    "    if x_max is None:\n",
    "        x_max = max(x)\n",
    "\n",
    "    \n",
    "    bin_size = (x_max - x_min) / n_bins\n",
    "\n",
    "\n",
    "    hist = [0] * n_bins\n",
    "\n",
    "\n",
    "    bin_edges = [x_min + i * bin_size for i in range(n_bins + 1)]\n",
    "\n",
    "    \n",
    "    for val in x:\n",
    "        for i in range(n_bins):\n",
    "            if x_min + i * bin_size <= val < x_min + (i + 1) * bin_size:\n",
    "                hist[i] += 1\n",
    "                break\n",
    "\n",
    "  \n",
    "    return hist, bin_edges\n",
    "\n"
   ]
  },
  {
   "cell_type": "code",
   "execution_count": 43,
   "metadata": {},
   "outputs": [
    {
     "name": "stdout",
     "output_type": "stream",
     "text": [
      "[1, 2, 2, 2, 2]\n"
     ]
    }
   ],
   "source": [
    "# Test your solution here\n",
    "data = [1, 2, 3, 4, 5, 6, 7, 8, 9, 10]\n",
    "hist, bin_edges = histogram(data, 5, 0, 10)\n",
    "print(hist)"
   ]
  },
  {
   "cell_type": "markdown",
   "metadata": {},
   "source": [
    "*Exercise 4:* Write a function that uses the histogram function in the previous exercise to create a text-based \"graph\". For example the output could look like the following:\n",
    "```\n",
    "[  0,  1] : ######\n",
    "[  1,  2] : #####\n",
    "[  2,  3] : ######\n",
    "[  3,  4] : ####\n",
    "[  4,  5] : ####\n",
    "[  5,  6] : ######\n",
    "[  6,  7] : #####\n",
    "[  7,  8] : ######\n",
    "[  8,  9] : ####\n",
    "[  9, 10] : #####\n",
    "```\n",
    "\n",
    "Where each line corresponds to a bin and the number of `#`'s are proportional to the value of the data in the bin. "
   ]
  },
  {
   "cell_type": "code",
   "execution_count": 66,
   "metadata": {},
   "outputs": [],
   "source": []
  },
  {
   "cell_type": "code",
   "execution_count": 67,
   "metadata": {},
   "outputs": [
    {
     "name": "stdout",
     "output_type": "stream",
     "text": [
      "[ 1.000, 1.450 ] : #\n",
      "[ 1.450, 1.900 ] : \n",
      "[ 1.900, 2.350 ] : #\n",
      "[ 2.350, 2.800 ] : \n",
      "[ 2.800, 3.250 ] : #\n",
      "[ 3.250, 3.700 ] : \n",
      "[ 3.700, 4.150 ] : #\n",
      "[ 4.150, 4.600 ] : \n",
      "[ 4.600, 5.050 ] : #\n",
      "[ 5.050, 5.500 ] : \n",
      "[ 5.500, 5.950 ] : \n",
      "[ 5.950, 6.400 ] : #\n",
      "[ 6.400, 6.850 ] : \n",
      "[ 6.850, 7.300 ] : #\n",
      "[ 7.300, 7.750 ] : \n",
      "[ 7.750, 8.200 ] : #\n",
      "[ 8.200, 8.650 ] : \n",
      "[ 8.650, 9.100 ] : #\n",
      "[ 9.100, 9.550 ] : \n",
      "[ 9.550, 10.000 ] : \n"
     ]
    }
   ],
   "source": [
    "# Test your solution here\n",
    "h, b = histogram(data, 20)\n",
    "draw_histogram(data, 20)\n"
   ]
  },
  {
   "cell_type": "markdown",
   "metadata": {},
   "source": [
    "## Functional Programming\n",
    "\n",
    "*Exercise 5:* Write a function the applies a booling function (that returns true/false) to every element in data, and return a list of indices of elements where the result was true. Use this function to find the indices of entries greater than 0.5. "
   ]
  },
  {
   "cell_type": "code",
   "execution_count": 76,
   "metadata": {},
   "outputs": [],
   "source": [
    "def where(mylist, myfunc):\n",
    "    out = []\n",
    "\n",
    "    \n",
    "    for i, item in enumerate(mylist):\n",
    "        \n",
    "        if myfunc(item):\n",
    "           \n",
    "            out.append(i)\n",
    "\n",
    "    return out\n",
    "\n",
    "def is_big(number):\n",
    "    return number > 0.5\n",
    "\n",
    "numbers = [0.2, 0.6, 0.8, 0.4, 0.9, 0.1, 0.7]\n",
    "positions = where(numbers, is_big)\n",
    "\n"
   ]
  },
  {
   "cell_type": "code",
   "execution_count": 77,
   "metadata": {},
   "outputs": [
    {
     "name": "stdout",
     "output_type": "stream",
     "text": [
      "Positions of big numbers: [1, 2, 4, 6]\n"
     ]
    }
   ],
   "source": [
    "print(\"Positions of big numbers:\", positions)"
   ]
  },
  {
   "cell_type": "markdown",
   "metadata": {},
   "source": [
    "*Exercise 6:* The `inrange(mymin,mymax)` function below returns a function that tests if it's input is between the specified values. Write corresponding functions that test:\n",
    "* Even\n",
    "* Odd\n",
    "* Greater than\n",
    "* Less than\n",
    "* Equal\n",
    "* Divisible by"
   ]
  },
  {
   "cell_type": "code",
   "execution_count": null,
   "metadata": {},
   "outputs": [],
   "source": [
    "def in_range(mymin,mymax):\n",
    "    def testrange(x):\n",
    "        return x<mymax and x>=mymin\n",
    "    return testrange\n",
    "\n",
    "# Examples:\n",
    "F1=inrange(0,10)\n",
    "F2=inrange(10,20)\n",
    "\n",
    "# Test of in_range\n",
    "print (F1(0), F1(1), F1(10), F1(15), F1(20))\n",
    "print (F2(0), F2(1), F2(10), F2(15), F2(20))\n",
    "\n",
    "print (\"Number of Entries passing F1:\", len(where(data,F1)))\n",
    "print (\"Number of Entries passing F2:\", len(where(data,F2)))"
   ]
  },
  {
   "cell_type": "code",
   "execution_count": 78,
   "metadata": {},
   "outputs": [],
   "source": [
    "# Function to check if a number is even\n",
    "def is_even(x):\n",
    "    return x % 2 == 0\n",
    "\n",
    "# Function to check if a number is odd\n",
    "def is_odd(x):\n",
    "    return x % 2 != 0\n",
    "\n",
    "# Function to check if a number is greater than a value\n",
    "def greater_than(value):\n",
    "    def test(x):\n",
    "        return x > value\n",
    "    return test\n",
    "\n",
    "# Function to check if a number is less than a value\n",
    "def less_than(value):\n",
    "    def test(x):\n",
    "        return x < value\n",
    "    return test\n",
    "\n",
    "# Function to check if a number is equal to a value\n",
    "def is_equal(value):\n",
    "    def test(x):\n",
    "        return x == value\n",
    "    return test\n",
    "\n",
    "# Function to check if a number is divisible by a value\n",
    "def divisible_by(divisor):\n",
    "    def test(x):\n",
    "        return x % divisor == 0\n",
    "    return test\n"
   ]
  },
  {
   "cell_type": "code",
   "execution_count": 79,
   "metadata": {},
   "outputs": [
    {
     "name": "stdout",
     "output_type": "stream",
     "text": [
      "Even numbers: [2, 8, 10, 12]\n",
      "Odd numbers: [5, 7, 15]\n",
      "Numbers greater than 7: [8, 10, 12, 15]\n",
      "Numbers less than 10: [2, 5, 7, 8]\n",
      "Numbers equal to 8: [8]\n",
      "Numbers divisible by 3: [12, 15]\n"
     ]
    }
   ],
   "source": [
    "# Define some test data\n",
    "test_data = [2, 5, 7, 8, 10, 12, 15]\n",
    "\n",
    "# Test is_even function\n",
    "print(\"Even numbers:\", [x for x in test_data if is_even(x)])\n",
    "\n",
    "# Test is_odd function\n",
    "print(\"Odd numbers:\", [x for x in test_data if is_odd(x)])\n",
    "\n",
    "# Test greater_than function\n",
    "gt_7 = greater_than(7)\n",
    "print(\"Numbers greater than 7:\", [x for x in test_data if gt_7(x)])\n",
    "\n",
    "# Test less_than function\n",
    "lt_10 = less_than(10)\n",
    "print(\"Numbers less than 10:\", [x for x in test_data if lt_10(x)])\n",
    "\n",
    "# Test is_equal function\n",
    "eq_8 = is_equal(8)\n",
    "print(\"Numbers equal to 8:\", [x for x in test_data if eq_8(x)])\n",
    "\n",
    "# Test divisible_by function\n",
    "div_by_3 = divisible_by(3)\n",
    "print(\"Numbers divisible by 3:\", [x for x in test_data if div_by_3(x)])\n"
   ]
  },
  {
   "cell_type": "markdown",
   "metadata": {},
   "source": [
    "*Exercise 7:* Repeat the previous exercise using `lambda` and the built-in python functions sum and map instead of your solution above. "
   ]
  },
  {
   "cell_type": "code",
   "execution_count": 81,
   "metadata": {},
   "outputs": [
    {
     "name": "stdout",
     "output_type": "stream",
     "text": [
      "Even numbers: [2, 8, 10, 12]\n",
      "Odd numbers: [5, 7, 15]\n",
      "Numbers greater than 7: [8, 10, 12, 15]\n",
      "Numbers less than 10: [2, 5, 7, 8]\n",
      "Numbers equal to 8: [8]\n",
      "Numbers divisible by 3: [12, 15]\n"
     ]
    }
   ],
   "source": [
    "# Lambda function to check if a number is even\n",
    "is_even = lambda x: x % 2 == 0\n",
    "\n",
    "# Lambda function to check if a number is odd\n",
    "is_odd = lambda x: x % 2 != 0\n",
    "\n",
    "# Lambda function to check if a number is greater than a value\n",
    "greater_than = lambda value: lambda x: x > value\n",
    "\n",
    "# Lambda function to check if a number is less than a value\n",
    "less_than = lambda value: lambda x: x < value\n",
    "\n",
    "# Lambda function to check if a number is equal to a value\n",
    "is_equal = lambda value: lambda x: x == value\n",
    "\n",
    "# Lambda function to check if a number is divisible by a value\n",
    "divisible_by = lambda divisor: lambda x: x % divisor == 0\n",
    "\n",
    "test_data = [2, 5, 7, 8, 10, 12, 15]\n",
    "\n",
    "# Test is_even function\n",
    "print(\"Even numbers:\", list(filter(is_even, test_data)))\n",
    "\n",
    "# Test is_odd function\n",
    "print(\"Odd numbers:\", list(filter(is_odd, test_data)))\n",
    "\n",
    "# Test greater_than function\n",
    "print(\"Numbers greater than 7:\", list(filter(greater_than(7), test_data)))\n",
    "\n",
    "# Test less_than function\n",
    "print(\"Numbers less than 10:\", list(filter(less_than(10), test_data)))\n",
    "\n",
    "# Test is_equal function\n",
    "print(\"Numbers equal to 8:\", list(filter(is_equal(8), test_data)))\n",
    "\n",
    "# Test divisible_by function\n",
    "print(\"Numbers divisible by 3:\", list(filter(divisible_by(3), test_data)))\n"
   ]
  },
  {
   "cell_type": "markdown",
   "metadata": {},
   "source": [
    "## Monte Carlo\n",
    "\n",
    "*Exercise 7:* Write a \"generator\" function called `generate_function(func,x_min,x_max,N)`, that instead of generating a flat distribution, generates a distribution with functional form coded in `func`. Note that `func` will always be > 0.  \n",
    "\n",
    "Use the test function below and your histogramming functions above to demonstrate that your generator is working properly.\n",
    "\n",
    "Hint: A simple, but slow, solution is to a draw random number `test_x` within the specified range and another number `p` between the `min` and `max` of the function (which you will have to determine). If `p<=function(test_x)`, then place `test_x` on the output. If not, repeat the process, drawing two new numbers. Repeat until you have the specified number of generated numbers, `N`. For this problem, it's OK to determine the `min` and `max` by numerically sampling the function.  "
   ]
  },
  {
   "cell_type": "code",
   "execution_count": 87,
   "metadata": {},
   "outputs": [],
   "source": [
    "import random\n",
    "\n",
    "def generate_function(func, x_min, x_max, N=1000):\n",
    "    out = []\n",
    "    \n",
    "    min_value = float('inf')\n",
    "    max_value = float('-inf')\n",
    "    for _ in range(10000):\n",
    "        test_x = random.uniform(x_min, x_max)\n",
    "        test_y = func(test_x)\n",
    "        min_value = min(min_value, test_y)\n",
    "        max_value = max(max_value, test_y)\n",
    "    \n",
    "    while len(out) < N:\n",
    "        test_x = random.uniform(x_min, x_max)\n",
    "        test_y = random.uniform(min_value, max_value)\n",
    "        \n",
    "        if test_y <= func(test_x):\n",
    "            out.append(test_x)\n",
    "    \n",
    "    return out\n"
   ]
  },
  {
   "cell_type": "code",
   "execution_count": 88,
   "metadata": {},
   "outputs": [],
   "source": [
    "# A test function\n",
    "def test_func(x,a=1,b=1):\n",
    "    return abs(a*x+b)"
   ]
  },
  {
   "cell_type": "markdown",
   "metadata": {},
   "source": [
    "*Exercise 8:* Use your function to generate 1000 numbers that are normal distributed, using the `gaussian` function below. Confirm the mean and variance of the data is close to the mean and variance you specify when building the Gaussian. Histogram the data. "
   ]
  },
  {
   "cell_type": "code",
   "execution_count": 90,
   "metadata": {},
   "outputs": [
    {
     "name": "stdout",
     "output_type": "stream",
     "text": [
      "[ -10.000, -8.000 ] : \n",
      "[ -8.000, -6.000 ] : \n",
      "[ -6.000, -4.000 ] : \n",
      "[ -4.000, -2.000 ] : ####################\n",
      "[ -2.000, 0.000 ] : ####################\n",
      "[ 0.000, 2.000 ] : ####################\n",
      "[ 2.000, 4.000 ] : ################\n",
      "[ 4.000, 6.000 ] : \n",
      "[ 6.000, 8.000 ] : \n",
      "[ 8.000, 10.000 ] : \n"
     ]
    }
   ],
   "source": [
    "import math\n",
    "\n",
    "def gaussian(mean, sigma):\n",
    "    def f(x):\n",
    "        return math.exp(-((x - mean)**2) / (2 * sigma**2)) / math.sqrt(2 * math.pi * sigma**2)\n",
    "    return f\n",
    "\n",
    "g1 = gaussian(0, 1)\n",
    "g2 = gaussian(10, 3)\n",
    "\n",
    "generated_data = generate_function(g1, -10, 10, N=1000)\n",
    "\n",
    "mean_generated = sum(generated_data) / len(generated_data)\n",
    "variance_generated = sum((x - mean_generated) ** 2 for x in generated_data) / len(generated_data)\n",
    "\n",
    "hist, bin_edges = histogram(generated_data, 10, -10, 10)\n",
    "draw_histogram(generated_data, 10, -10, 10)\n"
   ]
  },
  {
   "cell_type": "markdown",
   "metadata": {},
   "source": [
    "*Exercise 9:* Combine your `generate_function`, `where`, and `in_range` functions above to create an integrate function. Use your integrate function to show that approximately 68% of Normal distribution is within one variance."
   ]
  },
  {
   "cell_type": "code",
   "execution_count": 98,
   "metadata": {},
   "outputs": [],
   "source": [
    "import random\n",
    "import math\n",
    "\n",
    "def gaussian(mean, sigma):\n",
    "    def f(x):\n",
    "        return math.exp(-((x - mean) ** 2) / (2 * sigma ** 2)) / math.sqrt(2 * math.pi * sigma ** 2)\n",
    "    return f\n",
    "\n",
    "def generate_function(func, x_min, x_max, N=1000):\n",
    "    out = []\n",
    "    min_value = float('inf')\n",
    "    max_value = float('-inf')\n",
    "    for _ in range(10000):\n",
    "        test_x = random.uniform(x_min, x_max)\n",
    "        test_y = func(test_x)\n",
    "        min_value = min(min_value, test_y)\n",
    "        max_value = max(max_value, test_y)\n",
    "    while len(out) < N:\n",
    "        test_x = random.uniform(x_min, x_max)\n",
    "        test_y = random.uniform(min_value, max_value)\n",
    "        if test_y <= func(test_x):\n",
    "            out.append(test_x)\n",
    "    return out\n",
    "\n",
    "def where(mylist, myfunc):\n",
    "    out = []\n",
    "    for i, item in enumerate(mylist):\n",
    "        if myfunc(item):\n",
    "            out.append(i)\n",
    "    return out\n",
    "\n",
    "def in_range(mymin, mymax):\n",
    "    def testrange(x):\n",
    "        return x < mymax and x >= mymin\n",
    "    return testrange\n",
    "\n",
    "def integrate(func, x_min, x_max, N=10000):\n",
    "    generated_data = generate_function(func, x_min, x_max, N)\n",
    "    points_within_range = where(generated_data, in_range(x_min, x_max))\n",
    "    percentage_within_range = len(points_within_range) / len(generated_data) * 100\n",
    "    return percentage_within_range\n",
    "\n",
    "\n",
    "g1 = gaussian(0, 1)\n",
    "\n",
    "# Calculate percentage within one standard deviation\n",
    "percentage_within_one_std_dev = integrate(g1, -1, 1)\n",
    "\n"
   ]
  },
  {
   "cell_type": "code",
   "execution_count": 99,
   "metadata": {},
   "outputs": [
    {
     "name": "stdout",
     "output_type": "stream",
     "text": [
      "About 100.00% of the data is within one standard deviation.\n"
     ]
    }
   ],
   "source": [
    "print(f\"About {percentage_within_one_std_dev:.2f}% of the data is within one standard deviation.\")\n"
   ]
  }
 ],
 "metadata": {
  "kernelspec": {
   "display_name": "Python 3 (ipykernel)",
   "language": "python",
   "name": "python3"
  },
  "language_info": {
   "codemirror_mode": {
    "name": "ipython",
    "version": 3
   },
   "file_extension": ".py",
   "mimetype": "text/x-python",
   "name": "python",
   "nbconvert_exporter": "python",
   "pygments_lexer": "ipython3",
   "version": "3.9.13"
  }
 },
 "nbformat": 4,
 "nbformat_minor": 2
}
