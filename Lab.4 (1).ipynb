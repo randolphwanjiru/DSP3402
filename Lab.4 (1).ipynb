{
 "cells": [
  {
   "cell_type": "markdown",
   "metadata": {},
   "source": [
    "# Lab 4- Object Oriented Programming\n",
    "\n",
    "For all of the exercises below, make sure you provide tests of your solutions.\n"
   ]
  },
  {
   "cell_type": "markdown",
   "metadata": {},
   "source": [
    "1. Write a \"counter\" class that can be incremented up to a specified maximum value, will print an error if an attempt is made to increment beyond that value, and allows reseting the counter. "
   ]
  },
  {
   "cell_type": "code",
   "execution_count": 3,
   "metadata": {},
   "outputs": [],
   "source": [
    "class Counter:\n",
    "    def __init__(self, max_value):\n",
    "        # Initialize the counter with a maximum value.\n",
    "        self.max_value = max_value\n",
    "        self.value = 0\n",
    "\n",
    "    def increment(self):\n",
    "        # Increase the counter by 1, if not at max value.\n",
    "        if self.value < self.max_value:\n",
    "            self.value += 1\n",
    "        else:\n",
    "            print(f\"Error: Counter is already at maximum value of {self.max_value}\")\n",
    "\n",
    "    def reset(self):\n",
    "        # Reset the counter back to 0.\n",
    "        self.value = 0\n",
    "\n",
    "    def get_value(self):\n",
    "        # Get the current value of the counter.\n",
    "        return self.value\n"
   ]
  },
  {
   "cell_type": "code",
   "execution_count": 5,
   "metadata": {},
   "outputs": [
    {
     "name": "stdout",
     "output_type": "stream",
     "text": [
      "1\n",
      "2\n",
      "0\n",
      "1\n",
      "2\n",
      "3\n",
      "4\n",
      "5\n",
      "Error: Counter is already at maximum value of 5\n",
      "5\n",
      "Error: Counter is already at maximum value of 5\n",
      "5\n"
     ]
    }
   ],
   "source": [
    "# Create a counter with a maximum value of 5\n",
    "my_counter = Counter(5)\n",
    "\n",
    "# Increment and print\n",
    "my_counter.increment()\n",
    "print(my_counter.get_value())  # Output: 1\n",
    "\n",
    "# Increment and print\n",
    "my_counter.increment()\n",
    "print(my_counter.get_value())  # Output: 2\n",
    "\n",
    "# Reset and print\n",
    "my_counter.reset()\n",
    "print(my_counter.get_value())  # Output: 0\n",
    "\n",
    "# Attempt to increment beyond maximum value\n",
    "for _ in range(7):\n",
    "    my_counter.increment()  # Output: Error: Counter already at maximum value of 5\n",
    "    print(my_counter.get_value())  # Output: 5 (for the 6th and 7th iterations)\n"
   ]
  },
  {
   "cell_type": "markdown",
   "metadata": {},
   "source": [
    "2. Copy and paste your solution to question 1 and modify it so that all the data held by the counter is private. Implement functions to check the value of the counter, check the maximum value, and check if the counter is at the maximum."
   ]
  },
  {
   "cell_type": "code",
   "execution_count": 6,
   "metadata": {},
   "outputs": [],
   "source": [
    "class Counter:\n",
    "    def __init__(self, max_value):\n",
    "        self.__max_value = max_value\n",
    "        self.__value = 0\n",
    "\n",
    "    def __increment(self):\n",
    "        if self.__value < self.__max_value:\n",
    "            self.__value += 1\n",
    "        else:\n",
    "            print(f\"Error: Counter is already at maximum value of {self.__max_value}\")\n",
    "\n",
    "    def reset(self):\n",
    "        self.__value = 0\n",
    "\n",
    "    def get_value(self):\n",
    "        return self.__value\n",
    "\n",
    "    def get_max_value(self):\n",
    "        return self.__max_value\n",
    "\n",
    "    def is_at_maximum(self):\n",
    "        return self.__value == self.__max_value\n",
    "\n",
    "    def increment(self):\n",
    "        self.__increment()\n"
   ]
  },
  {
   "cell_type": "code",
   "execution_count": 7,
   "metadata": {},
   "outputs": [
    {
     "name": "stdout",
     "output_type": "stream",
     "text": [
      "1\n",
      "2\n",
      "False\n",
      "0\n",
      "5\n",
      "Error: Counter is already at maximum value of 5\n",
      "Error: Counter is already at maximum value of 5\n",
      "5\n",
      "True\n"
     ]
    }
   ],
   "source": [
    "my_counter = Counter(5)\n",
    "\n",
    "my_counter.increment()\n",
    "print(my_counter.get_value())      # Output: 1\n",
    "\n",
    "my_counter.increment()\n",
    "print(my_counter.get_value())      # Output: 2\n",
    "\n",
    "print(my_counter.is_at_maximum())  # Output: False\n",
    "\n",
    "my_counter.reset()\n",
    "print(my_counter.get_value())      # Output: 0\n",
    "\n",
    "print(my_counter.get_max_value())  # Output: 5\n",
    "\n",
    "for _ in range(7):\n",
    "    my_counter.increment()  # Output: Error: Counter is already at maximum value of 5\n",
    "\n",
    "print(my_counter.get_value())      # Output: 5\n",
    "print(my_counter.is_at_maximum())  # Output: True\n"
   ]
  },
  {
   "cell_type": "markdown",
   "metadata": {},
   "source": [
    "3. Implement a class to represent a rectangle, holding the length, width, and $x$ and $y$ coordinates of a corner of the object. Implement functions that compute the area and perimeter of the rectangle. Make all data members private and privide accessors to retrieve values of data members. "
   ]
  },
  {
   "cell_type": "code",
   "execution_count": 8,
   "metadata": {},
   "outputs": [],
   "source": [
    "class Rectangle:\n",
    "    def __init__(self, length, width, x, y):\n",
    "        self.__length, self.__width, self.__x, self.__y = length, width, x, y\n",
    "\n",
    "    def length(self): return self.__length\n",
    "    def width(self): return self.__width\n",
    "    def x(self): return self.__x\n",
    "    def y(self): return self.__y\n",
    "\n",
    "    def set_length(self, length): self.__length = length\n",
    "    def set_width(self, width): self.__width = width\n",
    "    def set_x(self, x): self.__x = x\n",
    "    def set_y(self, y): self.__y = y\n",
    "\n",
    "    def area(self): return self.__length * self.__width\n",
    "    def perimeter(self): return 2 * (self.__length + self.__width)\n"
   ]
  },
  {
   "cell_type": "code",
   "execution_count": 9,
   "metadata": {},
   "outputs": [
    {
     "name": "stdout",
     "output_type": "stream",
     "text": [
      "5\n",
      "3\n",
      "2\n",
      "2\n",
      "24\n",
      "20\n"
     ]
    }
   ],
   "source": [
    "my_rectangle = Rectangle(5, 3, 2, 2)\n",
    "\n",
    "print(my_rectangle.length())       # Output: 5\n",
    "print(my_rectangle.width())        # Output: 3\n",
    "print(my_rectangle.x())            # Output: 2\n",
    "print(my_rectangle.y())            # Output: 2\n",
    "\n",
    "my_rectangle.set_length(6)\n",
    "my_rectangle.set_width(4)\n",
    "my_rectangle.set_x(3)\n",
    "my_rectangle.set_y(3)\n",
    "\n",
    "print(my_rectangle.area())      # Output: 24\n",
    "print(my_rectangle.perimeter()) # Output: 20\n"
   ]
  },
  {
   "cell_type": "markdown",
   "metadata": {},
   "source": [
    "4. Implement a class to represent a circle, holding the radius and $x$ and $y$ coordinates of center of the object. Implement functions that compute the area and perimeter of the rectangle. Make all data members private and privide accessors to retrieve values of data members. "
   ]
  },
  {
   "cell_type": "code",
   "execution_count": 10,
   "metadata": {},
   "outputs": [],
   "source": [
    "class Circle:\n",
    "    def __init__(self, radius, x, y):\n",
    "        self.__radius, self.__x, self.__y = radius, x, y\n",
    "\n",
    "    def radius(self): return self.__radius\n",
    "    def x(self): return self.__x\n",
    "    def y(self): return self.__y\n",
    "\n",
    "    def set_radius(self, radius): self.__radius = radius\n",
    "    def set_x(self, x): self.__x = x\n",
    "    def set_y(self, y): self.__y = y\n",
    "\n",
    "    def area(self): return 3.14159 * (self.__radius**2)\n",
    "    def perimeter(self): return 2 * 3.14159 * self.__radius\n"
   ]
  },
  {
   "cell_type": "code",
   "execution_count": 11,
   "metadata": {},
   "outputs": [
    {
     "name": "stdout",
     "output_type": "stream",
     "text": [
      "5\n",
      "2\n",
      "2\n",
      "113.09724\n",
      "37.699079999999995\n"
     ]
    }
   ],
   "source": [
    "my_circle = Circle(5, 2, 2)\n",
    "\n",
    "print(my_circle.radius())       # Output: 5\n",
    "print(my_circle.x())            # Output: 2\n",
    "print(my_circle.y())            # Output: 2\n",
    "\n",
    "my_circle.set_radius(6)\n",
    "my_circle.set_x(3)\n",
    "my_circle.set_y(3)\n",
    "\n",
    "print(my_circle.area())     \n",
    "print(my_circle.perimeter()) \n"
   ]
  },
  {
   "cell_type": "markdown",
   "metadata": {},
   "source": [
    "5. Implement a common base class for the classes implemented in 3 and 4 above which implements all common methods as not implemented functions (virtual). Re-implement those classes to inherit from the base class and overload the functions accordingly. "
   ]
  },
  {
   "cell_type": "code",
   "execution_count": null,
   "metadata": {},
   "outputs": [],
   "source": []
  },
  {
   "cell_type": "markdown",
   "metadata": {},
   "source": [
    "6. Implement an analogous triangle class."
   ]
  },
  {
   "cell_type": "code",
   "execution_count": null,
   "metadata": {},
   "outputs": [],
   "source": []
  },
  {
   "cell_type": "markdown",
   "metadata": {},
   "source": [
    "7. Add a function to the object classes that tests if a given set of $x$ and $y$ coordinates are inside of the object."
   ]
  },
  {
   "cell_type": "code",
   "execution_count": null,
   "metadata": {},
   "outputs": [],
   "source": []
  },
  {
   "cell_type": "markdown",
   "metadata": {},
   "source": [
    "8. Add a function to the object classes that return a list of up to 16 pairs of  $x$ and $y$ points on the parameter of the object.\n",
    "\n"
   ]
  },
  {
   "cell_type": "code",
   "execution_count": null,
   "metadata": {},
   "outputs": [],
   "source": []
  },
  {
   "cell_type": "markdown",
   "metadata": {},
   "source": [
    "9. Add a function in the base class of the object classes that returns true/false testing that the object overlaps with another object."
   ]
  },
  {
   "cell_type": "code",
   "execution_count": null,
   "metadata": {},
   "outputs": [],
   "source": []
  },
  {
   "cell_type": "markdown",
   "metadata": {},
   "source": [
    "10. Copy the `Canvas` class from lecture to in a python file creating a `paint` module. Copy your classes from above into the module and implement paint functions. Implement a `CompoundShape` class. Create a simple drawing demonstrating that all of your classes are working."
   ]
  },
  {
   "cell_type": "code",
   "execution_count": null,
   "metadata": {},
   "outputs": [],
   "source": []
  },
  {
   "cell_type": "markdown",
   "metadata": {},
   "source": [
    "11. Create a `RasterDrawing` class. Demonstrate that you can create a drawing made of several shapes, paint the drawing, modify the drawing, and paint it again. "
   ]
  },
  {
   "cell_type": "code",
   "execution_count": null,
   "metadata": {},
   "outputs": [],
   "source": []
  },
  {
   "cell_type": "markdown",
   "metadata": {},
   "source": [
    "12. Implement the ability to load/save raster drawings and demonstate that your method works. One way to implement this ability:\n",
    "\n",
    "   * Overload `__repr__` functions of all objects to return strings of the python code that would construct the object.\n",
    "   \n",
    "   * In the save method of raster drawing class, store the representations into the file.\n",
    "   * Write a loader function that reads the file and uses `eval` to instantiate the object.\n",
    "\n",
    "For example:"
   ]
  },
  {
   "cell_type": "code",
   "execution_count": 1,
   "metadata": {},
   "outputs": [],
   "source": [
    "class foo:\n",
    "    def __init__(self,a,b=None):\n",
    "        self.a=a\n",
    "        self.b=b\n",
    "        \n",
    "    def __repr__(self):\n",
    "        return \"foo(\"+repr(self.a)+\",\"+repr(self.b)+\")\"\n",
    "    \n",
    "    def save(self,filename):\n",
    "        f=open(filename,\"w\")\n",
    "        f.write(self.__repr__())\n",
    "        f.close()\n",
    "        \n",
    "   \n",
    "def foo_loader(filename):\n",
    "    f=open(filename,\"r\")\n",
    "    tmp=eval(f.read())\n",
    "    f.close()\n",
    "    return tmp\n"
   ]
  },
  {
   "cell_type": "code",
   "execution_count": 2,
   "metadata": {},
   "outputs": [
    {
     "name": "stdout",
     "output_type": "stream",
     "text": [
      "foo(1,'hello')\n"
     ]
    }
   ],
   "source": [
    "# Test\n",
    "print(repr(foo(1,\"hello\")))"
   ]
  },
  {
   "cell_type": "code",
   "execution_count": 3,
   "metadata": {},
   "outputs": [],
   "source": [
    "# Create an object and save it\n",
    "ff=foo(1,\"hello\")\n",
    "ff.save(\"Test.foo\")"
   ]
  },
  {
   "cell_type": "code",
   "execution_count": 4,
   "metadata": {},
   "outputs": [
    {
     "name": "stdout",
     "output_type": "stream",
     "text": [
      "foo(1,'hello')"
     ]
    }
   ],
   "source": [
    "# Check contents of the saved file\n",
    "!cat Test.foo"
   ]
  },
  {
   "cell_type": "code",
   "execution_count": 5,
   "metadata": {},
   "outputs": [
    {
     "data": {
      "text/plain": [
       "foo(1,'hello')"
      ]
     },
     "execution_count": 5,
     "metadata": {},
     "output_type": "execute_result"
    }
   ],
   "source": [
    "# Load the object\n",
    "ff_reloaded=foo_loader(\"Test.foo\")\n",
    "ff_reloaded"
   ]
  },
  {
   "cell_type": "code",
   "execution_count": null,
   "metadata": {},
   "outputs": [],
   "source": []
  },
  {
   "cell_type": "code",
   "execution_count": null,
   "metadata": {},
   "outputs": [],
   "source": []
  }
 ],
 "metadata": {
  "kernelspec": {
   "display_name": "Python 3 (ipykernel)",
   "language": "python",
   "name": "python3"
  },
  "language_info": {
   "codemirror_mode": {
    "name": "ipython",
    "version": 3
   },
   "file_extension": ".py",
   "mimetype": "text/x-python",
   "name": "python",
   "nbconvert_exporter": "python",
   "pygments_lexer": "ipython3",
   "version": "3.9.13"
  }
 },
 "nbformat": 4,
 "nbformat_minor": 2
}
