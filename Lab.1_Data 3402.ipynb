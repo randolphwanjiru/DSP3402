{
 "cells": [
  {
   "cell_type": "markdown",
   "metadata": {},
   "source": [
    "# Lab 1- Tic Tac Toe\n",
    "\n",
    "In this lab your will build a n x n Tic Tac Toe game. As you do the exercises, make sure your solutions work for any size Tic Tac Toe game. "
   ]
  },
  {
   "cell_type": "markdown",
   "metadata": {},
   "source": [
    "*Exercise 1:* Write a function that creates an n by n matrix (of list of lists) which will represent the state of a Tie Tac Toe game. Let 0, 1, and 2 represent empty, \"X\", and \"O\", respectively.\n"
   ]
  },
  {
   "cell_type": "code",
   "execution_count": 10,
   "metadata": {},
   "outputs": [],
   "source": [
    "def create_tic_tac_toe_board(n):\n",
    "    return [[0] * n for _ in range(n)]\n",
    "\n",
    "def print_board(board):\n",
    "    for row in board:\n",
    "        print(row)\n"
   ]
  },
  {
   "cell_type": "code",
   "execution_count": 12,
   "metadata": {},
   "outputs": [
    {
     "name": "stdout",
     "output_type": "stream",
     "text": [
      "[0, 0, 0]\n",
      "[0, 0, 0]\n",
      "[0, 0, 0]\n"
     ]
    }
   ],
   "source": [
    "size = 3 \n",
    "tic_tac_toe_board = create_tic_tac_toe_board(size)\n",
    "print_board(tic_tac_toe_board)"
   ]
  },
  {
   "cell_type": "markdown",
   "metadata": {},
   "source": [
    "*Exercise 2:* Write a function that takes 2 integers `n` and `m` as input and draws a `n` by `m` game board. For example the following is a 3x3 board:\n",
    "```\n",
    "   --- --- --- \n",
    "  |   |   |   | \n",
    "   --- --- ---  \n",
    "  |   |   |   | \n",
    "   --- --- ---  \n",
    "  |   |   |   | \n",
    "   --- --- --- \n",
    "   ```"
   ]
  },
  {
   "cell_type": "code",
   "execution_count": 16,
   "metadata": {},
   "outputs": [],
   "source": [
    "def draw_game_board(n, m):\n",
    "    for i in range(n):\n",
    "        print(\" ---\" * m)\n",
    "        print(\"|   \" * (m + 1))\n",
    "    print(\" ---\" * m)\n",
    "\n"
   ]
  },
  {
   "cell_type": "code",
   "execution_count": 17,
   "metadata": {},
   "outputs": [
    {
     "name": "stdout",
     "output_type": "stream",
     "text": [
      " --- --- ---\n",
      "|   |   |   |   \n",
      " --- --- ---\n",
      "|   |   |   |   \n",
      " --- --- ---\n",
      "|   |   |   |   \n",
      " --- --- ---\n"
     ]
    }
   ],
   "source": [
    "rows = 3  \n",
    "columns = 3 \n",
    "draw_game_board(rows, columns)\n"
   ]
  },
  {
   "cell_type": "markdown",
   "metadata": {},
   "source": [
    "*Exercise 3:* Modify exercise 2, so that it takes a matrix of the form from exercise 1 and draws a tic-tac-tie board with \"X\"s and \"O\"s.  "
   ]
  },
  {
   "cell_type": "code",
   "execution_count": 18,
   "metadata": {},
   "outputs": [],
   "source": [
    "def create_tic_tac_toe_board(n):\n",
    "    return [[0] * n for _ in range(n)]\n",
    "\n",
    "def draw_tic_tac_toe_board(board):\n",
    "    for row in board:\n",
    "        print(\"   |   |   \")\n",
    "        print(f\" {row[0]} | {row[1]} | {row[2]} \")\n",
    "        print(\"   |   |   \")\n",
    "        if row != board[-1]:\n",
    "            print(\"---|---|---\")\n",
    "\n"
   ]
  },
  {
   "cell_type": "code",
   "execution_count": 19,
   "metadata": {},
   "outputs": [
    {
     "name": "stdout",
     "output_type": "stream",
     "text": [
      "   |   |   \n",
      " 1 | 0 | 0 \n",
      "   |   |   \n",
      "---|---|---\n",
      "   |   |   \n",
      " 0 | 2 | 0 \n",
      "   |   |   \n",
      "---|---|---\n",
      "   |   |   \n",
      " 0 | 0 | 1 \n",
      "   |   |   \n"
     ]
    }
   ],
   "source": [
    "size = 3\n",
    "tic_tac_toe_board = create_tic_tac_toe_board(size)\n",
    "tic_tac_toe_board[0][0] = 1\n",
    "tic_tac_toe_board[1][1] = 2\n",
    "tic_tac_toe_board[2][2] = 1\n",
    "draw_tic_tac_toe_board(tic_tac_toe_board)\n"
   ]
  },
  {
   "cell_type": "markdown",
   "metadata": {},
   "source": [
    "*Exercise 4:* Write a function that takes a `n` by `n` matrix representing a tic-tac-toe game, and returns -1, 0, 1, or 2 indicating the game is incomplete, the game is a draw, player 1 has won, or player 2 has one, respectively. Here are some example inputs you can use to test your code:"
   ]
  },
  {
   "cell_type": "code",
   "execution_count": 25,
   "metadata": {},
   "outputs": [],
   "source": [
    "winner_is_2 = [[2, 2, 0],\n",
    "\t[2, 1, 0],\n",
    "\t[2, 1, 1]]\n",
    "\n",
    "winner_is_1 = [[1, 2, 0],\n",
    "\t[2, 1, 0],\n",
    "\t[2, 1, 1]]\n",
    "\n",
    "winner_is_also_1 = [[0, 1, 0],\n",
    "\t[2, 1, 0],\n",
    "\t[2, 1, 1]]\n",
    "\n",
    "no_winner = [[1, 2, 0],\n",
    "\t[2, 1, 0],\n",
    "\t[2, 1, 2]]\n",
    "\n",
    "also_no_winner = [[1, 2, 0],\n",
    "\t[2, 1, 0],\n",
    "\t[2, 1, 0]]\n",
    "\n"
   ]
  },
  {
   "cell_type": "code",
   "execution_count": 26,
   "metadata": {},
   "outputs": [
    {
     "name": "stdout",
     "output_type": "stream",
     "text": [
      "Outcome for winner_is_2: Player 2 wins!\n",
      "Outcome for winner_is_1: Player 1 wins!\n",
      "Outcome for winner_is_also_1: Player 2 wins!\n",
      "Outcome for no_winner: The game is still going.\n",
      "Outcome for also_no_winner: The game is still going.\n"
     ]
    }
   ],
   "source": [
    "\n",
    "def check_outcome(board):\n",
    "    result = check_tic_tac_toe(board)\n",
    "    if result == 0:\n",
    "        return \"It's a draw!\"\n",
    "    elif result == -1:\n",
    "        return \"The game is still going.\"\n",
    "    elif result == 1:\n",
    "        return \"Player 1 wins!\"\n",
    "    elif result == 2:\n",
    "        return \"Player 2 wins!\"\n",
    "\n",
    "\n",
    "print(\"Outcome for winner_is_2:\", check_outcome(winner_is_2))\n",
    "print(\"Outcome for winner_is_1:\", check_outcome(winner_is_1))\n",
    "print(\"Outcome for winner_is_also_1:\", check_outcome(winner_is_also_1))\n",
    "print(\"Outcome for no_winner:\", check_outcome(no_winner))\n",
    "print(\"Outcome for also_no_winner:\", check_outcome(also_no_winner))\n"
   ]
  },
  {
   "cell_type": "markdown",
   "metadata": {},
   "source": [
    "*Exercise 5:* Write a function that takes a game board, player number, and `(x,y)` coordinates and places \"X\" or \"O\" in the correct location of the game board. Make sure that you only allow filling previously empty locations. Return `True` or `False` to indicate successful placement of \"X\" or \"O\"."
   ]
  },
  {
   "cell_type": "code",
   "execution_count": 13,
   "metadata": {},
   "outputs": [
    {
     "name": "stdout",
     "output_type": "stream",
     "text": [
      "Placed 'X' successfully: True\n",
      "[1, 0, 0]\n",
      "[0, 0, 0]\n",
      "[0, 0, 0]\n",
      "Placed 'O' successfully: False\n",
      "[1, 0, 0]\n",
      "[0, 0, 0]\n",
      "[0, 0, 0]\n"
     ]
    }
   ],
   "source": [
    "def create_tic_tac_toe_board(n):\n",
    "    return [[0] * n for _ in range(n)]\n",
    "\n",
    "def place_symbol(board, player, x, y):\n",
    "    if board[x][y] == 0:\n",
    "        board[x][y] = player\n",
    "        return True\n",
    "    return False\n",
    "\n",
    "def print_board(board):\n",
    "    for row in board:\n",
    "        print(row)\n",
    "\n",
    "# Example usage:\n",
    "size = 3\n",
    "tic_tac_toe_board = create_tic_tac_toe_board(size)\n",
    "\n",
    "success = place_symbol(tic_tac_toe_board, 1, 0, 0)  # Place \"X\" at (0, 0)\n",
    "print(\"Placed 'X' successfully:\", success)\n",
    "print_board(tic_tac_toe_board)\n",
    "\n",
    "success = place_symbol(tic_tac_toe_board, 2, 0, 0)  # Try to place \"O\" at (0, 0) (already filled)\n",
    "print(\"Placed 'O' successfully:\", success)\n",
    "print_board(tic_tac_toe_board)\n"
   ]
  },
  {
   "cell_type": "markdown",
   "metadata": {},
   "source": [
    "*Exercise 6:* Modify Exercise 4 to show column and row labels so that players can specify location using \"A2\" or \"C1\"."
   ]
  },
  {
   "cell_type": "code",
   "execution_count": 24,
   "metadata": {},
   "outputs": [
    {
     "name": "stdout",
     "output_type": "stream",
     "text": [
      "  A B C\n",
      "1      \n",
      "2      \n",
      "3      \n"
     ]
    },
    {
     "ename": "KeyboardInterrupt",
     "evalue": "Interrupted by user",
     "output_type": "error",
     "traceback": [
      "\u001b[1;31m---------------------------------------------------------------------------\u001b[0m",
      "\u001b[1;31mKeyboardInterrupt\u001b[0m                         Traceback (most recent call last)",
      "\u001b[1;32m~\\AppData\\Local\\Temp\\ipykernel_20532\\4003134504.py\u001b[0m in \u001b[0;36m<module>\u001b[1;34m\u001b[0m\n\u001b[0;32m     36\u001b[0m \u001b[1;32mwhile\u001b[0m \u001b[1;32mTrue\u001b[0m\u001b[1;33m:\u001b[0m\u001b[1;33m\u001b[0m\u001b[1;33m\u001b[0m\u001b[0m\n\u001b[0;32m     37\u001b[0m     \u001b[0mprint_board\u001b[0m\u001b[1;33m(\u001b[0m\u001b[0mboard\u001b[0m\u001b[1;33m)\u001b[0m\u001b[1;33m\u001b[0m\u001b[1;33m\u001b[0m\u001b[0m\n\u001b[1;32m---> 38\u001b[1;33m     \u001b[0mmove\u001b[0m \u001b[1;33m=\u001b[0m \u001b[0minput\u001b[0m\u001b[1;33m(\u001b[0m\u001b[1;34m\"Enter your move (e.g., A2): \"\u001b[0m\u001b[1;33m)\u001b[0m\u001b[1;33m\u001b[0m\u001b[1;33m\u001b[0m\u001b[0m\n\u001b[0m\u001b[0;32m     39\u001b[0m     \u001b[0mrow\u001b[0m\u001b[1;33m,\u001b[0m \u001b[0mcol\u001b[0m \u001b[1;33m=\u001b[0m \u001b[0mconvert_input\u001b[0m\u001b[1;33m(\u001b[0m\u001b[0mmove\u001b[0m\u001b[1;33m)\u001b[0m\u001b[1;33m\u001b[0m\u001b[1;33m\u001b[0m\u001b[0m\n\u001b[0;32m     40\u001b[0m     \u001b[1;32mif\u001b[0m \u001b[0mrow\u001b[0m \u001b[1;32mis\u001b[0m \u001b[1;32mnot\u001b[0m \u001b[1;32mNone\u001b[0m \u001b[1;32mand\u001b[0m \u001b[0mcol\u001b[0m \u001b[1;32mis\u001b[0m \u001b[1;32mnot\u001b[0m \u001b[1;32mNone\u001b[0m\u001b[1;33m:\u001b[0m\u001b[1;33m\u001b[0m\u001b[1;33m\u001b[0m\u001b[0m\n",
      "\u001b[1;32m~\\anaconda3\\lib\\site-packages\\ipykernel\\kernelbase.py\u001b[0m in \u001b[0;36mraw_input\u001b[1;34m(self, prompt)\u001b[0m\n\u001b[0;32m   1175\u001b[0m                 \u001b[1;34m\"raw_input was called, but this frontend does not support input requests.\"\u001b[0m\u001b[1;33m\u001b[0m\u001b[1;33m\u001b[0m\u001b[0m\n\u001b[0;32m   1176\u001b[0m             )\n\u001b[1;32m-> 1177\u001b[1;33m         return self._input_request(\n\u001b[0m\u001b[0;32m   1178\u001b[0m             \u001b[0mstr\u001b[0m\u001b[1;33m(\u001b[0m\u001b[0mprompt\u001b[0m\u001b[1;33m)\u001b[0m\u001b[1;33m,\u001b[0m\u001b[1;33m\u001b[0m\u001b[1;33m\u001b[0m\u001b[0m\n\u001b[0;32m   1179\u001b[0m             \u001b[0mself\u001b[0m\u001b[1;33m.\u001b[0m\u001b[0m_parent_ident\u001b[0m\u001b[1;33m[\u001b[0m\u001b[1;34m\"shell\"\u001b[0m\u001b[1;33m]\u001b[0m\u001b[1;33m,\u001b[0m\u001b[1;33m\u001b[0m\u001b[1;33m\u001b[0m\u001b[0m\n",
      "\u001b[1;32m~\\anaconda3\\lib\\site-packages\\ipykernel\\kernelbase.py\u001b[0m in \u001b[0;36m_input_request\u001b[1;34m(self, prompt, ident, parent, password)\u001b[0m\n\u001b[0;32m   1217\u001b[0m             \u001b[1;32mexcept\u001b[0m \u001b[0mKeyboardInterrupt\u001b[0m\u001b[1;33m:\u001b[0m\u001b[1;33m\u001b[0m\u001b[1;33m\u001b[0m\u001b[0m\n\u001b[0;32m   1218\u001b[0m                 \u001b[1;31m# re-raise KeyboardInterrupt, to truncate traceback\u001b[0m\u001b[1;33m\u001b[0m\u001b[1;33m\u001b[0m\u001b[0m\n\u001b[1;32m-> 1219\u001b[1;33m                 \u001b[1;32mraise\u001b[0m \u001b[0mKeyboardInterrupt\u001b[0m\u001b[1;33m(\u001b[0m\u001b[1;34m\"Interrupted by user\"\u001b[0m\u001b[1;33m)\u001b[0m \u001b[1;32mfrom\u001b[0m \u001b[1;32mNone\u001b[0m\u001b[1;33m\u001b[0m\u001b[1;33m\u001b[0m\u001b[0m\n\u001b[0m\u001b[0;32m   1220\u001b[0m             \u001b[1;32mexcept\u001b[0m \u001b[0mException\u001b[0m\u001b[1;33m:\u001b[0m\u001b[1;33m\u001b[0m\u001b[1;33m\u001b[0m\u001b[0m\n\u001b[0;32m   1221\u001b[0m                 \u001b[0mself\u001b[0m\u001b[1;33m.\u001b[0m\u001b[0mlog\u001b[0m\u001b[1;33m.\u001b[0m\u001b[0mwarning\u001b[0m\u001b[1;33m(\u001b[0m\u001b[1;34m\"Invalid Message:\"\u001b[0m\u001b[1;33m,\u001b[0m \u001b[0mexc_info\u001b[0m\u001b[1;33m=\u001b[0m\u001b[1;32mTrue\u001b[0m\u001b[1;33m)\u001b[0m\u001b[1;33m\u001b[0m\u001b[1;33m\u001b[0m\u001b[0m\n",
      "\u001b[1;31mKeyboardInterrupt\u001b[0m: Interrupted by user"
     ]
    }
   ],
   "source": [
    "def create_board():\n",
    "    return [[' ']*3 for _ in range(3)]\n",
    "\n",
    "def print_board(board):\n",
    "    print(\"  A B C\")\n",
    "    for i, row in enumerate(board):\n",
    "        print(f\"{i+1} {' '.join(row)}\")\n",
    "\n",
    "def check_win(board):\n",
    "    for i in range(3):\n",
    "        if board[i][0] == board[i][1] == board[i][2] != ' ' or \\\n",
    "           board[0][i] == board[1][i] == board[2][i] != ' ':\n",
    "            return board[i][0]\n",
    "    if board[0][0] == board[1][1] == board[2][2] != ' ' or \\\n",
    "       board[0][2] == board[1][1] == board[2][0] != ' ':\n",
    "        return board[1][1]\n",
    "    if any(' ' in row for row in board):\n",
    "        return -1\n",
    "    return 0\n",
    "\n",
    "def place(board, player, x, y):\n",
    "    if board[x][y] == ' ':\n",
    "        board[x][y] = player\n",
    "        return True\n",
    "    return False\n",
    "\n",
    "def convert_input(move):\n",
    "    col, row = move[0].upper(), int(move[1])-1\n",
    "    if col in 'ABC' and row in range(3):\n",
    "        return row, ord(col) - ord('A')\n",
    "    return None, None\n",
    "\n",
    "# Example usage:\n",
    "board = create_board()\n",
    "\n",
    "while True:\n",
    "    print_board(board)\n",
    "    move = input(\"Enter your move (e.g., A2): \")\n",
    "    row, col = convert_input(move)\n",
    "    if row is not None and col is not None:\n",
    "        success = place(board, 'X', row, col)\n",
    "        if success:\n",
    "            outcome = check_win(board)\n",
    "            if outcome == 'X':\n",
    "                print_board(board)\n",
    "                print(\"Player X wins!\")\n",
    "                break\n",
    "            elif outcome == -1:\n",
    "                print(\"Game is incomplete.\")\n",
    "            else:\n",
    "                print_board(board)\n",
    "                print(\"It's a draw!\")\n",
    "                break\n",
    "        else:\n",
    "            print(\"Invalid move. Try again.\")\n",
    "    else:\n",
    "        print(\"Invalid input. Try again.\")\n"
   ]
  },
  {
   "cell_type": "markdown",
   "metadata": {},
   "source": [
    "*Exercise 7:* Write a function that takes a board, player number, and location specified as in exercise 6 and then calls exercise 5 to correctly modify the board.  "
   ]
  },
  {
   "cell_type": "code",
   "execution_count": 22,
   "metadata": {},
   "outputs": [
    {
     "name": "stdout",
     "output_type": "stream",
     "text": [
      "Let's play Tic-Tac-Toe!\n",
      "  |   |  \n",
      "  |   |  \n",
      "  |   |  \n",
      "X |   |  \n",
      "  |   |  \n",
      "  |   |  \n",
      "X |   |  \n",
      "  | O |  \n",
      "  |   |  \n"
     ]
    }
   ],
   "source": [
    "# Create an empty Tic-Tac-Toe board\n",
    "board = [[' ']*3 for _ in range(3)]\n",
    "\n",
    "# Function to print the board\n",
    "def print_board(board):\n",
    "    for row in board:\n",
    "        print(' | '.join(row))\n",
    "\n",
    "# Function to make a move\n",
    "def make_move(board, player, move):\n",
    "    row = int(move[1]) - 1\n",
    "    col = ord(move[0].upper()) - ord('A')\n",
    "    if board[row][col] == ' ':\n",
    "        board[row][col] = player\n",
    "        return True\n",
    "    return False\n",
    "\n",
    "# Example usage:\n",
    "print(\"Let's play Tic-Tac-Toe!\")\n",
    "\n",
    "# Initialize the board\n",
    "print_board(board)\n",
    "\n",
    "# Player 1 (\"X\") makes a move at A1\n",
    "move = \"A1\"\n",
    "if make_move(board, \"X\", move):\n",
    "    print_board(board)\n",
    "else:\n",
    "    print(\"Invalid move. Try again.\")\n",
    "\n",
    "# Player 2 (\"O\") makes a move at B2\n",
    "move = \"B2\"\n",
    "if make_move(board, \"O\", move):\n",
    "    print_board(board)\n",
    "else:\n",
    "    print(\"Invalid move. Try again.\")\n"
   ]
  },
  {
   "cell_type": "markdown",
   "metadata": {},
   "source": [
    "*Exercise 8:* Write a function is called with a board and player number, takes input from the player using python's `input`, and modifies the board using your function from exercise 7. Note that you should keep asking for input until you have gotten a valid input that results in a valid move."
   ]
  },
  {
   "cell_type": "markdown",
   "metadata": {},
   "source": []
  },
  {
   "cell_type": "code",
   "execution_count": 18,
   "metadata": {
    "scrolled": true
   },
   "outputs": [
    {
     "name": "stdout",
     "output_type": "stream",
     "text": [
      "Let's play Tic-Tac-Toe!\n",
      "  |   |  \n",
      "  |   |  \n",
      "  |   |  \n"
     ]
    },
    {
     "ename": "KeyboardInterrupt",
     "evalue": "Interrupted by user",
     "output_type": "error",
     "traceback": [
      "\u001b[1;31m---------------------------------------------------------------------------\u001b[0m",
      "\u001b[1;31mKeyboardInterrupt\u001b[0m                         Traceback (most recent call last)",
      "\u001b[1;32m~\\AppData\\Local\\Temp\\ipykernel_4656\\1335977295.py\u001b[0m in \u001b[0;36m<module>\u001b[1;34m\u001b[0m\n\u001b[0;32m     36\u001b[0m \u001b[1;33m\u001b[0m\u001b[0m\n\u001b[0;32m     37\u001b[0m \u001b[1;31m# Player 1 (\"X\") makes a move\u001b[0m\u001b[1;33m\u001b[0m\u001b[1;33m\u001b[0m\u001b[0m\n\u001b[1;32m---> 38\u001b[1;33m \u001b[0mget_player_move\u001b[0m\u001b[1;33m(\u001b[0m\u001b[0mboard\u001b[0m\u001b[1;33m,\u001b[0m \u001b[1;34m\"X\"\u001b[0m\u001b[1;33m)\u001b[0m\u001b[1;33m\u001b[0m\u001b[1;33m\u001b[0m\u001b[0m\n\u001b[0m\u001b[0;32m     39\u001b[0m \u001b[0mprint_board\u001b[0m\u001b[1;33m(\u001b[0m\u001b[0mboard\u001b[0m\u001b[1;33m)\u001b[0m\u001b[1;33m\u001b[0m\u001b[1;33m\u001b[0m\u001b[0m\n\u001b[0;32m     40\u001b[0m \u001b[1;33m\u001b[0m\u001b[0m\n",
      "\u001b[1;32m~\\AppData\\Local\\Temp\\ipykernel_4656\\1335977295.py\u001b[0m in \u001b[0;36mget_player_move\u001b[1;34m(board, player)\u001b[0m\n\u001b[0;32m     18\u001b[0m \u001b[1;32mdef\u001b[0m \u001b[0mget_player_move\u001b[0m\u001b[1;33m(\u001b[0m\u001b[0mboard\u001b[0m\u001b[1;33m,\u001b[0m \u001b[0mplayer\u001b[0m\u001b[1;33m)\u001b[0m\u001b[1;33m:\u001b[0m\u001b[1;33m\u001b[0m\u001b[1;33m\u001b[0m\u001b[0m\n\u001b[0;32m     19\u001b[0m     \u001b[1;32mwhile\u001b[0m \u001b[1;32mTrue\u001b[0m\u001b[1;33m:\u001b[0m\u001b[1;33m\u001b[0m\u001b[1;33m\u001b[0m\u001b[0m\n\u001b[1;32m---> 20\u001b[1;33m         \u001b[0mmove\u001b[0m \u001b[1;33m=\u001b[0m \u001b[0minput\u001b[0m\u001b[1;33m(\u001b[0m\u001b[1;34mf\"Player {player}, enter your move (e.g., A2): \"\u001b[0m\u001b[1;33m)\u001b[0m\u001b[1;33m\u001b[0m\u001b[1;33m\u001b[0m\u001b[0m\n\u001b[0m\u001b[0;32m     21\u001b[0m         \u001b[1;32mif\u001b[0m \u001b[0mlen\u001b[0m\u001b[1;33m(\u001b[0m\u001b[0mmove\u001b[0m\u001b[1;33m)\u001b[0m \u001b[1;33m==\u001b[0m \u001b[1;36m2\u001b[0m \u001b[1;32mand\u001b[0m \u001b[0mmove\u001b[0m\u001b[1;33m[\u001b[0m\u001b[1;36m0\u001b[0m\u001b[1;33m]\u001b[0m\u001b[1;33m.\u001b[0m\u001b[0misalpha\u001b[0m\u001b[1;33m(\u001b[0m\u001b[1;33m)\u001b[0m \u001b[1;32mand\u001b[0m \u001b[0mmove\u001b[0m\u001b[1;33m[\u001b[0m\u001b[1;36m1\u001b[0m\u001b[1;33m]\u001b[0m\u001b[1;33m.\u001b[0m\u001b[0misdigit\u001b[0m\u001b[1;33m(\u001b[0m\u001b[1;33m)\u001b[0m\u001b[1;33m:\u001b[0m\u001b[1;33m\u001b[0m\u001b[1;33m\u001b[0m\u001b[0m\n\u001b[0;32m     22\u001b[0m             \u001b[0mrow\u001b[0m \u001b[1;33m=\u001b[0m \u001b[0mint\u001b[0m\u001b[1;33m(\u001b[0m\u001b[0mmove\u001b[0m\u001b[1;33m[\u001b[0m\u001b[1;36m1\u001b[0m\u001b[1;33m]\u001b[0m\u001b[1;33m)\u001b[0m \u001b[1;33m-\u001b[0m \u001b[1;36m1\u001b[0m\u001b[1;33m\u001b[0m\u001b[1;33m\u001b[0m\u001b[0m\n",
      "\u001b[1;32m~\\anaconda3\\lib\\site-packages\\ipykernel\\kernelbase.py\u001b[0m in \u001b[0;36mraw_input\u001b[1;34m(self, prompt)\u001b[0m\n\u001b[0;32m   1175\u001b[0m                 \u001b[1;34m\"raw_input was called, but this frontend does not support input requests.\"\u001b[0m\u001b[1;33m\u001b[0m\u001b[1;33m\u001b[0m\u001b[0m\n\u001b[0;32m   1176\u001b[0m             )\n\u001b[1;32m-> 1177\u001b[1;33m         return self._input_request(\n\u001b[0m\u001b[0;32m   1178\u001b[0m             \u001b[0mstr\u001b[0m\u001b[1;33m(\u001b[0m\u001b[0mprompt\u001b[0m\u001b[1;33m)\u001b[0m\u001b[1;33m,\u001b[0m\u001b[1;33m\u001b[0m\u001b[1;33m\u001b[0m\u001b[0m\n\u001b[0;32m   1179\u001b[0m             \u001b[0mself\u001b[0m\u001b[1;33m.\u001b[0m\u001b[0m_parent_ident\u001b[0m\u001b[1;33m[\u001b[0m\u001b[1;34m\"shell\"\u001b[0m\u001b[1;33m]\u001b[0m\u001b[1;33m,\u001b[0m\u001b[1;33m\u001b[0m\u001b[1;33m\u001b[0m\u001b[0m\n",
      "\u001b[1;32m~\\anaconda3\\lib\\site-packages\\ipykernel\\kernelbase.py\u001b[0m in \u001b[0;36m_input_request\u001b[1;34m(self, prompt, ident, parent, password)\u001b[0m\n\u001b[0;32m   1217\u001b[0m             \u001b[1;32mexcept\u001b[0m \u001b[0mKeyboardInterrupt\u001b[0m\u001b[1;33m:\u001b[0m\u001b[1;33m\u001b[0m\u001b[1;33m\u001b[0m\u001b[0m\n\u001b[0;32m   1218\u001b[0m                 \u001b[1;31m# re-raise KeyboardInterrupt, to truncate traceback\u001b[0m\u001b[1;33m\u001b[0m\u001b[1;33m\u001b[0m\u001b[0m\n\u001b[1;32m-> 1219\u001b[1;33m                 \u001b[1;32mraise\u001b[0m \u001b[0mKeyboardInterrupt\u001b[0m\u001b[1;33m(\u001b[0m\u001b[1;34m\"Interrupted by user\"\u001b[0m\u001b[1;33m)\u001b[0m \u001b[1;32mfrom\u001b[0m \u001b[1;32mNone\u001b[0m\u001b[1;33m\u001b[0m\u001b[1;33m\u001b[0m\u001b[0m\n\u001b[0m\u001b[0;32m   1220\u001b[0m             \u001b[1;32mexcept\u001b[0m \u001b[0mException\u001b[0m\u001b[1;33m:\u001b[0m\u001b[1;33m\u001b[0m\u001b[1;33m\u001b[0m\u001b[0m\n\u001b[0;32m   1221\u001b[0m                 \u001b[0mself\u001b[0m\u001b[1;33m.\u001b[0m\u001b[0mlog\u001b[0m\u001b[1;33m.\u001b[0m\u001b[0mwarning\u001b[0m\u001b[1;33m(\u001b[0m\u001b[1;34m\"Invalid Message:\"\u001b[0m\u001b[1;33m,\u001b[0m \u001b[0mexc_info\u001b[0m\u001b[1;33m=\u001b[0m\u001b[1;32mTrue\u001b[0m\u001b[1;33m)\u001b[0m\u001b[1;33m\u001b[0m\u001b[1;33m\u001b[0m\u001b[0m\n",
      "\u001b[1;31mKeyboardInterrupt\u001b[0m: Interrupted by user"
     ]
    }
   ],
   "source": [
    "# Create an empty Tic-Tac-Toe board\n",
    "board = [[' ']*3 for _ in range(3)]\n",
    "\n",
    "# Function to print the board\n",
    "def print_board(board):\n",
    "    for row in board:\n",
    "        print(' | '.join(row))\n",
    "\n",
    "# Function to make a move\n",
    "def make_move(board, player, move):\n",
    "    row, col = move\n",
    "    if board[row][col] == ' ':\n",
    "        board[row][col] = player\n",
    "        return True\n",
    "    return False\n",
    "\n",
    "# Function to get player move\n",
    "def get_player_move(board, player):\n",
    "    while True:\n",
    "        move = input(f\"Player {player}, enter your move (e.g., A2): \")\n",
    "        if len(move) == 2 and move[0].isalpha() and move[1].isdigit():\n",
    "            row = int(move[1]) - 1\n",
    "            col = ord(move[0].upper()) - ord('A')\n",
    "            if make_move(board, player, (row, col)):\n",
    "                break\n",
    "            else:\n",
    "                print(\"Invalid move. Try again.\")\n",
    "        else:\n",
    "            print(\"Invalid input format. Try again.\")\n",
    "\n",
    "# Example usage:\n",
    "print(\"Let's play Tic-Tac-Toe!\")\n",
    "\n",
    "# Initialize the board\n",
    "print_board(board)\n",
    "\n",
    "# Player 1 (\"X\") makes a move\n",
    "get_player_move(board, \"X\")\n",
    "print_board(board)\n",
    "\n",
    "# Player 2 (\"O\") makes a move\n",
    "get_player_move(board, \"O\")\n",
    "print_board(board)\n",
    "\n"
   ]
  },
  {
   "cell_type": "markdown",
   "metadata": {},
   "source": [
    "*Exercise 9:* Use all of the previous exercises to implement a full tic-tac-toe game, where an appropriate board is drawn, 2 players are repeatedly asked for a location coordinates of where they wish to place a mark, and the game status is checked until a player wins or a draw occurs."
   ]
  },
  {
   "cell_type": "code",
   "execution_count": null,
   "metadata": {
    "scrolled": true
   },
   "outputs": [
    {
     "name": "stdout",
     "output_type": "stream",
     "text": [
      "Let's play Tic-Tac-Toe!\n",
      "  |   |  \n",
      "  |   |  \n",
      "  |   |  \n",
      "Player X, enter your move (e.g., A2): A1\n",
      "X |   |  \n",
      "  |   |  \n",
      "  |   |  \n",
      "Player O, enter your move (e.g., A2): A3\n",
      "X |   |  \n",
      "  |   |  \n",
      "O |   |  \n"
     ]
    }
   ],
   "source": [
    "def create_tic_tac_toe_board(n):\n",
    "    return [[' ']*n for _ in range(n)]\n",
    "\n",
    "def place_symbol(board, player, x, y):\n",
    "    if board[x][y] == ' ':\n",
    "        board[x][y] = player\n",
    "        return True\n",
    "    return False\n",
    "\n",
    "def print_board(board):\n",
    "    for row in board:\n",
    "        print(' | '.join(row))\n",
    "\n",
    "def convert_input(move):\n",
    "    if len(move) == 2 and move[0].isalpha() and move[1].isdigit():\n",
    "        row = int(move[1]) - 1\n",
    "        col = ord(move[0].upper()) - ord('A')\n",
    "        return row, col\n",
    "    return None, None\n",
    "\n",
    "def get_player_move(board, player):\n",
    "    while True:\n",
    "        move = input(f\"Player {player}, enter your move (e.g., A2): \")\n",
    "        row, col = convert_input(move)\n",
    "        if row is not None and col is not None:\n",
    "            success = place_symbol(board, player, row, col)\n",
    "            if success:\n",
    "                break\n",
    "            else:\n",
    "                print(\"Invalid move. Try again.\")\n",
    "        else:\n",
    "            print(\"Invalid input format. Try again.\")\n",
    "\n",
    "def check_tic_tac_toe(board):\n",
    "    size = len(board)\n",
    "    for i in range(size):\n",
    "        if all(board[i][j] == board[i][j+1] != ' ' for j in range(size-1)):\n",
    "            return board[i][0]\n",
    "\n",
    "        if all(board[j][i] == board[j+1][i] != ' ' for j in range(size-1)):\n",
    "            return board[0][i]\n",
    "\n",
    "    if all(board[i][i] == board[i+1][i+1] != ' ' for i in range(size-1)) or \\\n",
    "            all(board[i][size-1-i] == board[i+1][size-2-i] != ' ' for i in range(size-1)):\n",
    "        return board[0][0]\n",
    "\n",
    "    if any(' ' in row for row in board):\n",
    "        return -1\n",
    "    return 0\n",
    "\n",
    "def tic_tac_toe_game():\n",
    "    size = 3\n",
    "    tic_tac_toe_board = create_tic_tac_toe_board(size)\n",
    "\n",
    "    print(\"Let's play Tic-Tac-Toe!\")\n",
    "    print_board(tic_tac_toe_board)\n",
    "\n",
    "    while True:\n",
    "        get_player_move(tic_tac_toe_board, \"X\")\n",
    "        print_board(tic_tac_toe_board)\n",
    "        result = check_tic_tac_toe(tic_tac_toe_board)\n",
    "        if result != -1:\n",
    "            if result == 0:\n",
    "                print(\"It's a draw!\")\n",
    "            else:\n",
    "                print(f\"Player {result} wins!\")\n",
    "            break\n",
    "\n",
    "        get_player_move(tic_tac_toe_board, \"O\")\n",
    "        print_board(tic_tac_toe_board)\n",
    "        result = check_tic_tac_toe(tic_tac_toe_board)\n",
    "        if result != -1:\n",
    "            if result == 0:\n",
    "                print(\"It's a draw!\")\n",
    "            else:\n",
    "                print(f\"Player {result} wins!\")\n",
    "            break\n",
    "\n",
    "# Start the game\n",
    "tic_tac_toe_game()\n"
   ]
  },
  {
   "cell_type": "code",
   "execution_count": null,
   "metadata": {},
   "outputs": [],
   "source": []
  },
  {
   "cell_type": "markdown",
   "metadata": {},
   "source": [
    "*Exercise 10:* Test that your game works for 5x5 Tic Tac Toe.  "
   ]
  },
  {
   "cell_type": "code",
   "execution_count": 19,
   "metadata": {},
   "outputs": [
    {
     "name": "stdout",
     "output_type": "stream",
     "text": [
      "Let's play Tic-Tac-Toe!\n",
      "  |   |   |   |  \n",
      "  |   |   |   |  \n",
      "  |   |   |   |  \n",
      "  |   |   |   |  \n",
      "  |   |   |   |  \n",
      "Player X, enter your move (e.g., A2): A1\n",
      "X |   |   |   |  \n",
      "  |   |   |   |  \n",
      "  |   |   |   |  \n",
      "  |   |   |   |  \n",
      "  |   |   |   |  \n",
      "Player O, enter your move (e.g., A2): A2\n",
      "X |   |   |   |  \n",
      "O |   |   |   |  \n",
      "  |   |   |   |  \n",
      "  |   |   |   |  \n",
      "  |   |   |   |  \n",
      "Player X, enter your move (e.g., A2): A3\n",
      "X |   |   |   |  \n",
      "O |   |   |   |  \n",
      "X |   |   |   |  \n",
      "  |   |   |   |  \n",
      "  |   |   |   |  \n",
      "Player O, enter your move (e.g., A2): A3\n",
      "Invalid move. Try again.\n",
      "Player O, enter your move (e.g., A2): A4\n",
      "X |   |   |   |  \n",
      "O |   |   |   |  \n",
      "X |   |   |   |  \n",
      "O |   |   |   |  \n",
      "  |   |   |   |  \n",
      "Player X, enter your move (e.g., A2): A5\n",
      "X |   |   |   |  \n",
      "O |   |   |   |  \n",
      "X |   |   |   |  \n",
      "O |   |   |   |  \n",
      "X |   |   |   |  \n",
      "Player O, enter your move (e.g., A2): B1\n",
      "X | O |   |   |  \n",
      "O |   |   |   |  \n",
      "X |   |   |   |  \n",
      "O |   |   |   |  \n",
      "X |   |   |   |  \n",
      "Player X, enter your move (e.g., A2): B2\n",
      "X | O |   |   |  \n",
      "O | X |   |   |  \n",
      "X |   |   |   |  \n",
      "O |   |   |   |  \n",
      "X |   |   |   |  \n",
      "Player O, enter your move (e.g., A2): C1\n",
      "X | O | O |   |  \n",
      "O | X |   |   |  \n",
      "X |   |   |   |  \n",
      "O |   |   |   |  \n",
      "X |   |   |   |  \n",
      "Player X, enter your move (e.g., A2): C2\n",
      "X | O | O |   |  \n",
      "O | X | X |   |  \n",
      "X |   |   |   |  \n",
      "O |   |   |   |  \n",
      "X |   |   |   |  \n",
      "Player O, enter your move (e.g., A2): C3\n",
      "X | O | O |   |  \n",
      "O | X | X |   |  \n",
      "X |   | O |   |  \n",
      "O |   |   |   |  \n",
      "X |   |   |   |  \n",
      "Player X, enter your move (e.g., A2): C4\n",
      "X | O | O |   |  \n",
      "O | X | X |   |  \n",
      "X |   | O |   |  \n",
      "O |   | X |   |  \n",
      "X |   |   |   |  \n",
      "Player O, enter your move (e.g., A2): C4\n",
      "Invalid move. Try again.\n"
     ]
    },
    {
     "ename": "KeyboardInterrupt",
     "evalue": "Interrupted by user",
     "output_type": "error",
     "traceback": [
      "\u001b[1;31m---------------------------------------------------------------------------\u001b[0m",
      "\u001b[1;31mKeyboardInterrupt\u001b[0m                         Traceback (most recent call last)",
      "\u001b[1;32m~\\AppData\\Local\\Temp\\ipykernel_4656\\2012955708.py\u001b[0m in \u001b[0;36m<module>\u001b[1;34m\u001b[0m\n\u001b[0;32m     28\u001b[0m \u001b[1;33m\u001b[0m\u001b[0m\n\u001b[0;32m     29\u001b[0m \u001b[1;31m# Start the game\u001b[0m\u001b[1;33m\u001b[0m\u001b[1;33m\u001b[0m\u001b[0m\n\u001b[1;32m---> 30\u001b[1;33m \u001b[0mtic_tac_toe_game\u001b[0m\u001b[1;33m(\u001b[0m\u001b[1;33m)\u001b[0m\u001b[1;33m\u001b[0m\u001b[1;33m\u001b[0m\u001b[0m\n\u001b[0m",
      "\u001b[1;32m~\\AppData\\Local\\Temp\\ipykernel_4656\\2012955708.py\u001b[0m in \u001b[0;36mtic_tac_toe_game\u001b[1;34m()\u001b[0m\n\u001b[0;32m     17\u001b[0m             \u001b[1;32mbreak\u001b[0m\u001b[1;33m\u001b[0m\u001b[1;33m\u001b[0m\u001b[0m\n\u001b[0;32m     18\u001b[0m \u001b[1;33m\u001b[0m\u001b[0m\n\u001b[1;32m---> 19\u001b[1;33m         \u001b[0mget_player_move\u001b[0m\u001b[1;33m(\u001b[0m\u001b[0mtic_tac_toe_board\u001b[0m\u001b[1;33m,\u001b[0m \u001b[1;34m\"O\"\u001b[0m\u001b[1;33m)\u001b[0m\u001b[1;33m\u001b[0m\u001b[1;33m\u001b[0m\u001b[0m\n\u001b[0m\u001b[0;32m     20\u001b[0m         \u001b[0mprint_board\u001b[0m\u001b[1;33m(\u001b[0m\u001b[0mtic_tac_toe_board\u001b[0m\u001b[1;33m)\u001b[0m\u001b[1;33m\u001b[0m\u001b[1;33m\u001b[0m\u001b[0m\n\u001b[0;32m     21\u001b[0m         \u001b[0mresult\u001b[0m \u001b[1;33m=\u001b[0m \u001b[0mcheck_tic_tac_toe\u001b[0m\u001b[1;33m(\u001b[0m\u001b[0mtic_tac_toe_board\u001b[0m\u001b[1;33m)\u001b[0m\u001b[1;33m\u001b[0m\u001b[1;33m\u001b[0m\u001b[0m\n",
      "\u001b[1;32m~\\AppData\\Local\\Temp\\ipykernel_4656\\1335977295.py\u001b[0m in \u001b[0;36mget_player_move\u001b[1;34m(board, player)\u001b[0m\n\u001b[0;32m     18\u001b[0m \u001b[1;32mdef\u001b[0m \u001b[0mget_player_move\u001b[0m\u001b[1;33m(\u001b[0m\u001b[0mboard\u001b[0m\u001b[1;33m,\u001b[0m \u001b[0mplayer\u001b[0m\u001b[1;33m)\u001b[0m\u001b[1;33m:\u001b[0m\u001b[1;33m\u001b[0m\u001b[1;33m\u001b[0m\u001b[0m\n\u001b[0;32m     19\u001b[0m     \u001b[1;32mwhile\u001b[0m \u001b[1;32mTrue\u001b[0m\u001b[1;33m:\u001b[0m\u001b[1;33m\u001b[0m\u001b[1;33m\u001b[0m\u001b[0m\n\u001b[1;32m---> 20\u001b[1;33m         \u001b[0mmove\u001b[0m \u001b[1;33m=\u001b[0m \u001b[0minput\u001b[0m\u001b[1;33m(\u001b[0m\u001b[1;34mf\"Player {player}, enter your move (e.g., A2): \"\u001b[0m\u001b[1;33m)\u001b[0m\u001b[1;33m\u001b[0m\u001b[1;33m\u001b[0m\u001b[0m\n\u001b[0m\u001b[0;32m     21\u001b[0m         \u001b[1;32mif\u001b[0m \u001b[0mlen\u001b[0m\u001b[1;33m(\u001b[0m\u001b[0mmove\u001b[0m\u001b[1;33m)\u001b[0m \u001b[1;33m==\u001b[0m \u001b[1;36m2\u001b[0m \u001b[1;32mand\u001b[0m \u001b[0mmove\u001b[0m\u001b[1;33m[\u001b[0m\u001b[1;36m0\u001b[0m\u001b[1;33m]\u001b[0m\u001b[1;33m.\u001b[0m\u001b[0misalpha\u001b[0m\u001b[1;33m(\u001b[0m\u001b[1;33m)\u001b[0m \u001b[1;32mand\u001b[0m \u001b[0mmove\u001b[0m\u001b[1;33m[\u001b[0m\u001b[1;36m1\u001b[0m\u001b[1;33m]\u001b[0m\u001b[1;33m.\u001b[0m\u001b[0misdigit\u001b[0m\u001b[1;33m(\u001b[0m\u001b[1;33m)\u001b[0m\u001b[1;33m:\u001b[0m\u001b[1;33m\u001b[0m\u001b[1;33m\u001b[0m\u001b[0m\n\u001b[0;32m     22\u001b[0m             \u001b[0mrow\u001b[0m \u001b[1;33m=\u001b[0m \u001b[0mint\u001b[0m\u001b[1;33m(\u001b[0m\u001b[0mmove\u001b[0m\u001b[1;33m[\u001b[0m\u001b[1;36m1\u001b[0m\u001b[1;33m]\u001b[0m\u001b[1;33m)\u001b[0m \u001b[1;33m-\u001b[0m \u001b[1;36m1\u001b[0m\u001b[1;33m\u001b[0m\u001b[1;33m\u001b[0m\u001b[0m\n",
      "\u001b[1;32m~\\anaconda3\\lib\\site-packages\\ipykernel\\kernelbase.py\u001b[0m in \u001b[0;36mraw_input\u001b[1;34m(self, prompt)\u001b[0m\n\u001b[0;32m   1175\u001b[0m                 \u001b[1;34m\"raw_input was called, but this frontend does not support input requests.\"\u001b[0m\u001b[1;33m\u001b[0m\u001b[1;33m\u001b[0m\u001b[0m\n\u001b[0;32m   1176\u001b[0m             )\n\u001b[1;32m-> 1177\u001b[1;33m         return self._input_request(\n\u001b[0m\u001b[0;32m   1178\u001b[0m             \u001b[0mstr\u001b[0m\u001b[1;33m(\u001b[0m\u001b[0mprompt\u001b[0m\u001b[1;33m)\u001b[0m\u001b[1;33m,\u001b[0m\u001b[1;33m\u001b[0m\u001b[1;33m\u001b[0m\u001b[0m\n\u001b[0;32m   1179\u001b[0m             \u001b[0mself\u001b[0m\u001b[1;33m.\u001b[0m\u001b[0m_parent_ident\u001b[0m\u001b[1;33m[\u001b[0m\u001b[1;34m\"shell\"\u001b[0m\u001b[1;33m]\u001b[0m\u001b[1;33m,\u001b[0m\u001b[1;33m\u001b[0m\u001b[1;33m\u001b[0m\u001b[0m\n",
      "\u001b[1;32m~\\anaconda3\\lib\\site-packages\\ipykernel\\kernelbase.py\u001b[0m in \u001b[0;36m_input_request\u001b[1;34m(self, prompt, ident, parent, password)\u001b[0m\n\u001b[0;32m   1217\u001b[0m             \u001b[1;32mexcept\u001b[0m \u001b[0mKeyboardInterrupt\u001b[0m\u001b[1;33m:\u001b[0m\u001b[1;33m\u001b[0m\u001b[1;33m\u001b[0m\u001b[0m\n\u001b[0;32m   1218\u001b[0m                 \u001b[1;31m# re-raise KeyboardInterrupt, to truncate traceback\u001b[0m\u001b[1;33m\u001b[0m\u001b[1;33m\u001b[0m\u001b[0m\n\u001b[1;32m-> 1219\u001b[1;33m                 \u001b[1;32mraise\u001b[0m \u001b[0mKeyboardInterrupt\u001b[0m\u001b[1;33m(\u001b[0m\u001b[1;34m\"Interrupted by user\"\u001b[0m\u001b[1;33m)\u001b[0m \u001b[1;32mfrom\u001b[0m \u001b[1;32mNone\u001b[0m\u001b[1;33m\u001b[0m\u001b[1;33m\u001b[0m\u001b[0m\n\u001b[0m\u001b[0;32m   1220\u001b[0m             \u001b[1;32mexcept\u001b[0m \u001b[0mException\u001b[0m\u001b[1;33m:\u001b[0m\u001b[1;33m\u001b[0m\u001b[1;33m\u001b[0m\u001b[0m\n\u001b[0;32m   1221\u001b[0m                 \u001b[0mself\u001b[0m\u001b[1;33m.\u001b[0m\u001b[0mlog\u001b[0m\u001b[1;33m.\u001b[0m\u001b[0mwarning\u001b[0m\u001b[1;33m(\u001b[0m\u001b[1;34m\"Invalid Message:\"\u001b[0m\u001b[1;33m,\u001b[0m \u001b[0mexc_info\u001b[0m\u001b[1;33m=\u001b[0m\u001b[1;32mTrue\u001b[0m\u001b[1;33m)\u001b[0m\u001b[1;33m\u001b[0m\u001b[1;33m\u001b[0m\u001b[0m\n",
      "\u001b[1;31mKeyboardInterrupt\u001b[0m: Interrupted by user"
     ]
    }
   ],
   "source": [
    "def tic_tac_toe_game():\n",
    "    size = 5\n",
    "    tic_tac_toe_board = create_tic_tac_toe_board(size)\n",
    "\n",
    "    print(\"Let's play Tic-Tac-Toe!\")\n",
    "    print_board(tic_tac_toe_board)\n",
    "\n",
    "    while True:\n",
    "        get_player_move(tic_tac_toe_board, \"X\")\n",
    "        print_board(tic_tac_toe_board)\n",
    "        result = check_tic_tac_toe(tic_tac_toe_board)\n",
    "        if result != -1:\n",
    "            if result == 0:\n",
    "                print(\"It's a draw!\")\n",
    "            else:\n",
    "                print(f\"Player {result} wins!\")\n",
    "            break\n",
    "\n",
    "        get_player_move(tic_tac_toe_board, \"O\")\n",
    "        print_board(tic_tac_toe_board)\n",
    "        result = check_tic_tac_toe(tic_tac_toe_board)\n",
    "        if result != -1:\n",
    "            if result == 0:\n",
    "                print(\"It's a draw!\")\n",
    "            else:\n",
    "                print(f\"Player {result} wins!\")\n",
    "            break\n",
    "\n",
    "# Start the game\n",
    "tic_tac_toe_game()\n"
   ]
  },
  {
   "cell_type": "markdown",
   "metadata": {},
   "source": [
    "*Exercise 11:* Develop a version of the game where one player is the computer. Note that you don't need to do an extensive seach for the best move. You can have the computer simply protect against loosing and otherwise try to win with straight or diagonal patterns."
   ]
  },
  {
   "cell_type": "code",
   "execution_count": null,
   "metadata": {},
   "outputs": [],
   "source": []
  },
  {
   "cell_type": "code",
   "execution_count": null,
   "metadata": {
    "collapsed": true
   },
   "outputs": [],
   "source": [
    "# Write you solution here"
   ]
  },
  {
   "cell_type": "code",
   "execution_count": null,
   "metadata": {
    "collapsed": true
   },
   "outputs": [],
   "source": [
    "# Test your solution here"
   ]
  }
 ],
 "metadata": {
  "kernelspec": {
   "display_name": "Python 3 (ipykernel)",
   "language": "python",
   "name": "python3"
  },
  "language_info": {
   "codemirror_mode": {
    "name": "ipython",
    "version": 3
   },
   "file_extension": ".py",
   "mimetype": "text/x-python",
   "name": "python",
   "nbconvert_exporter": "python",
   "pygments_lexer": "ipython3",
   "version": "3.9.13"
  }
 },
 "nbformat": 4,
 "nbformat_minor": 2
}
